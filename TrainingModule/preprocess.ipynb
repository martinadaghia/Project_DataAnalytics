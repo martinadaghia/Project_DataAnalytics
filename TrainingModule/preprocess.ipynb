{
 "cells": [
  {
   "cell_type": "markdown",
   "metadata": {},
   "source": [
    "### Importazione librerie"
   ]
  },
  {
   "cell_type": "code",
   "execution_count": 3,
   "metadata": {},
   "outputs": [],
   "source": [
    "import pandas as pd\n",
    "import numpy as np\n",
    "import matplotlib.pyplot as plt\n",
    "from sklearn.model_selection import train_test_split\n",
    "from sklearn.preprocessing import StandardScaler\n",
    "from sklearn.decomposition import PCA\n",
    "import pickle\n",
    "\n",
    "from sklearn.decomposition import PCA\n",
    "from sklearn.metrics import mean_squared_error, r2_score\n",
    "from sklearn.linear_model import LinearRegression\n",
    "from sklearn.ensemble import RandomForestRegressor\n",
    "from sklearn.svm import SVR"
   ]
  },
  {
   "cell_type": "markdown",
   "metadata": {},
   "source": [
    "### Caricamento file train.csv"
   ]
  },
  {
   "cell_type": "code",
   "execution_count": 4,
   "metadata": {},
   "outputs": [],
   "source": [
    "file_path = \"../../train.csv\"\n",
    "df = pd.read_csv(file_path)"
   ]
  },
  {
   "cell_type": "markdown",
   "metadata": {},
   "source": [
    "### Controllo  e rimozione valori nulli e duplicati"
   ]
  },
  {
   "cell_type": "code",
   "execution_count": 5,
   "metadata": {},
   "outputs": [
    {
     "name": "stdout",
     "output_type": "stream",
     "text": [
      "\n",
      "Valori mancanti nel DataFrame per ciascuna colonna:\n",
      "Year    0\n",
      "S0      0\n",
      "S1      0\n",
      "S2      0\n",
      "S3      0\n",
      "       ..\n",
      "S85     0\n",
      "S86     0\n",
      "S87     0\n",
      "S88     0\n",
      "S89     0\n",
      "Length: 91, dtype: int64\n",
      "\n",
      "Totale dei valori mancanti nel DataFrame:\n",
      "0\n"
     ]
    }
   ],
   "source": [
    "# Valori mancanti per ciascuna colonna\n",
    "missing_values_per_column = df.isnull().sum()\n",
    "print(\"\\nValori mancanti nel DataFrame per ciascuna colonna:\")\n",
    "print(missing_values_per_column)\n",
    "\n",
    "# Totale dei valori mancanti in tutto il DataFrame\n",
    "total_missing_values = missing_values_per_column.sum()\n",
    "print(f\"\\nTotale dei valori mancanti nel DataFrame:\\n{total_missing_values}\")"
   ]
  },
  {
   "cell_type": "code",
   "execution_count": 6,
   "metadata": {},
   "outputs": [
    {
     "name": "stdout",
     "output_type": "stream",
     "text": [
      "\n",
      "Duplicati nel DataFrame:\n",
      "52\n"
     ]
    }
   ],
   "source": [
    "print(\"\\nDuplicati nel DataFrame:\")\n",
    "print(df.duplicated().sum())"
   ]
  },
  {
   "cell_type": "code",
   "execution_count": 7,
   "metadata": {},
   "outputs": [],
   "source": [
    "clean_df = df.dropna() \n",
    "clean_df = df.drop_duplicates()"
   ]
  },
  {
   "cell_type": "code",
   "execution_count": 16,
   "metadata": {},
   "outputs": [
    {
     "name": "stdout",
     "output_type": "stream",
     "text": [
      "\n",
      "Totale dei valori mancanti nel DataFrame: 0\n",
      "\n",
      "Duplicati nel DataFrame: 0\n"
     ]
    }
   ],
   "source": [
    "# Verifica rimozione valori nulli e duplicati\n",
    "total_missing_values = missing_values_per_column.sum()\n",
    "print(f\"\\nTotale dei valori mancanti nel DataFrame: {total_missing_values}\")\n",
    "print(f\"\\nDuplicati nel DataFrame: {clean_df.duplicated().sum()}\")"
   ]
  },
  {
   "cell_type": "code",
   "execution_count": 9,
   "metadata": {},
   "outputs": [
    {
     "data": {
      "text/html": [
       "<div>\n",
       "<style scoped>\n",
       "    .dataframe tbody tr th:only-of-type {\n",
       "        vertical-align: middle;\n",
       "    }\n",
       "\n",
       "    .dataframe tbody tr th {\n",
       "        vertical-align: top;\n",
       "    }\n",
       "\n",
       "    .dataframe thead th {\n",
       "        text-align: right;\n",
       "    }\n",
       "</style>\n",
       "<table border=\"1\" class=\"dataframe\">\n",
       "  <thead>\n",
       "    <tr style=\"text-align: right;\">\n",
       "      <th></th>\n",
       "      <th>Year</th>\n",
       "      <th>S0</th>\n",
       "      <th>S1</th>\n",
       "      <th>S2</th>\n",
       "      <th>S3</th>\n",
       "      <th>S4</th>\n",
       "      <th>S5</th>\n",
       "      <th>S6</th>\n",
       "      <th>S7</th>\n",
       "      <th>S8</th>\n",
       "      <th>...</th>\n",
       "      <th>S80</th>\n",
       "      <th>S81</th>\n",
       "      <th>S82</th>\n",
       "      <th>S83</th>\n",
       "      <th>S84</th>\n",
       "      <th>S85</th>\n",
       "      <th>S86</th>\n",
       "      <th>S87</th>\n",
       "      <th>S88</th>\n",
       "      <th>S89</th>\n",
       "    </tr>\n",
       "  </thead>\n",
       "  <tbody>\n",
       "    <tr>\n",
       "      <th>count</th>\n",
       "      <td>252123.000000</td>\n",
       "      <td>252123.000000</td>\n",
       "      <td>252123.000000</td>\n",
       "      <td>252123.000000</td>\n",
       "      <td>252123.000000</td>\n",
       "      <td>252123.000000</td>\n",
       "      <td>252123.000000</td>\n",
       "      <td>252123.000000</td>\n",
       "      <td>252123.000000</td>\n",
       "      <td>252123.000000</td>\n",
       "      <td>...</td>\n",
       "      <td>252123.000000</td>\n",
       "      <td>252123.000000</td>\n",
       "      <td>252123.000000</td>\n",
       "      <td>252123.000000</td>\n",
       "      <td>252123.000000</td>\n",
       "      <td>252123.000000</td>\n",
       "      <td>252123.000000</td>\n",
       "      <td>252123.000000</td>\n",
       "      <td>252123.000000</td>\n",
       "      <td>252123.000000</td>\n",
       "    </tr>\n",
       "    <tr>\n",
       "      <th>mean</th>\n",
       "      <td>1998.350143</td>\n",
       "      <td>43.379082</td>\n",
       "      <td>1.554115</td>\n",
       "      <td>8.644903</td>\n",
       "      <td>1.160495</td>\n",
       "      <td>-6.526296</td>\n",
       "      <td>-9.531860</td>\n",
       "      <td>-2.367001</td>\n",
       "      <td>-1.788615</td>\n",
       "      <td>3.712732</td>\n",
       "      <td>...</td>\n",
       "      <td>15.724619</td>\n",
       "      <td>-73.286196</td>\n",
       "      <td>41.487949</td>\n",
       "      <td>38.044051</td>\n",
       "      <td>0.334009</td>\n",
       "      <td>17.931321</td>\n",
       "      <td>-26.509443</td>\n",
       "      <td>4.488371</td>\n",
       "      <td>19.873068</td>\n",
       "      <td>1.309111</td>\n",
       "    </tr>\n",
       "    <tr>\n",
       "      <th>std</th>\n",
       "      <td>10.497821</td>\n",
       "      <td>6.066799</td>\n",
       "      <td>51.553786</td>\n",
       "      <td>35.236419</td>\n",
       "      <td>16.336976</td>\n",
       "      <td>22.842798</td>\n",
       "      <td>12.809783</td>\n",
       "      <td>14.531206</td>\n",
       "      <td>7.963667</td>\n",
       "      <td>10.554074</td>\n",
       "      <td>...</td>\n",
       "      <td>31.984394</td>\n",
       "      <td>174.926010</td>\n",
       "      <td>122.250505</td>\n",
       "      <td>94.579907</td>\n",
       "      <td>16.021250</td>\n",
       "      <td>114.048957</td>\n",
       "      <td>173.685614</td>\n",
       "      <td>13.286652</td>\n",
       "      <td>185.161556</td>\n",
       "      <td>22.113446</td>\n",
       "    </tr>\n",
       "    <tr>\n",
       "      <th>min</th>\n",
       "      <td>1956.000000</td>\n",
       "      <td>3.455260</td>\n",
       "      <td>-334.953220</td>\n",
       "      <td>-301.005060</td>\n",
       "      <td>-149.962040</td>\n",
       "      <td>-181.953370</td>\n",
       "      <td>-72.717370</td>\n",
       "      <td>-111.017810</td>\n",
       "      <td>-68.404510</td>\n",
       "      <td>-119.762620</td>\n",
       "      <td>...</td>\n",
       "      <td>-437.722030</td>\n",
       "      <td>-2984.920970</td>\n",
       "      <td>-1810.689190</td>\n",
       "      <td>-1848.702260</td>\n",
       "      <td>-272.289050</td>\n",
       "      <td>-2343.894110</td>\n",
       "      <td>-3819.933620</td>\n",
       "      <td>-233.456480</td>\n",
       "      <td>-7458.378150</td>\n",
       "      <td>-286.031200</td>\n",
       "    </tr>\n",
       "    <tr>\n",
       "      <th>25%</th>\n",
       "      <td>1994.000000</td>\n",
       "      <td>39.959190</td>\n",
       "      <td>-25.652865</td>\n",
       "      <td>-11.525215</td>\n",
       "      <td>-8.492365</td>\n",
       "      <td>-20.588825</td>\n",
       "      <td>-18.403075</td>\n",
       "      <td>-10.770910</td>\n",
       "      <td>-6.473035</td>\n",
       "      <td>-2.296255</td>\n",
       "      <td>...</td>\n",
       "      <td>-1.788015</td>\n",
       "      <td>-139.031800</td>\n",
       "      <td>-21.015265</td>\n",
       "      <td>-4.631245</td>\n",
       "      <td>-6.749575</td>\n",
       "      <td>-31.247580</td>\n",
       "      <td>-102.179795</td>\n",
       "      <td>-2.536405</td>\n",
       "      <td>-59.734690</td>\n",
       "      <td>-8.819860</td>\n",
       "    </tr>\n",
       "    <tr>\n",
       "      <th>50%</th>\n",
       "      <td>2002.000000</td>\n",
       "      <td>44.250210</td>\n",
       "      <td>8.654700</td>\n",
       "      <td>10.517340</td>\n",
       "      <td>-0.641620</td>\n",
       "      <td>-5.998880</td>\n",
       "      <td>-11.189760</td>\n",
       "      <td>-2.072920</td>\n",
       "      <td>-1.727880</td>\n",
       "      <td>3.821940</td>\n",
       "      <td>...</td>\n",
       "      <td>9.132190</td>\n",
       "      <td>-53.171760</td>\n",
       "      <td>28.675010</td>\n",
       "      <td>33.593230</td>\n",
       "      <td>0.818240</td>\n",
       "      <td>15.846730</td>\n",
       "      <td>-21.623440</td>\n",
       "      <td>3.145800</td>\n",
       "      <td>7.775050</td>\n",
       "      <td>0.062890</td>\n",
       "    </tr>\n",
       "    <tr>\n",
       "      <th>75%</th>\n",
       "      <td>2006.000000</td>\n",
       "      <td>47.823030</td>\n",
       "      <td>36.250215</td>\n",
       "      <td>29.795445</td>\n",
       "      <td>8.767810</td>\n",
       "      <td>7.740135</td>\n",
       "      <td>-2.448085</td>\n",
       "      <td>6.512805</td>\n",
       "      <td>2.913495</td>\n",
       "      <td>9.938115</td>\n",
       "      <td>...</td>\n",
       "      <td>26.208285</td>\n",
       "      <td>13.413625</td>\n",
       "      <td>89.185855</td>\n",
       "      <td>77.879375</td>\n",
       "      <td>8.451960</td>\n",
       "      <td>67.776985</td>\n",
       "      <td>51.887175</td>\n",
       "      <td>9.999690</td>\n",
       "      <td>85.829385</td>\n",
       "      <td>9.651235</td>\n",
       "    </tr>\n",
       "    <tr>\n",
       "      <th>max</th>\n",
       "      <td>2009.000000</td>\n",
       "      <td>61.970140</td>\n",
       "      <td>384.065730</td>\n",
       "      <td>318.868960</td>\n",
       "      <td>228.412110</td>\n",
       "      <td>262.068870</td>\n",
       "      <td>166.236890</td>\n",
       "      <td>160.815220</td>\n",
       "      <td>82.942190</td>\n",
       "      <td>92.792850</td>\n",
       "      <td>...</td>\n",
       "      <td>840.973380</td>\n",
       "      <td>4469.454870</td>\n",
       "      <td>3210.701700</td>\n",
       "      <td>1734.079690</td>\n",
       "      <td>199.121500</td>\n",
       "      <td>3662.065650</td>\n",
       "      <td>2833.608950</td>\n",
       "      <td>275.353660</td>\n",
       "      <td>7240.653730</td>\n",
       "      <td>600.766240</td>\n",
       "    </tr>\n",
       "  </tbody>\n",
       "</table>\n",
       "<p>8 rows × 91 columns</p>\n",
       "</div>"
      ],
      "text/plain": [
       "                Year             S0             S1             S2  \\\n",
       "count  252123.000000  252123.000000  252123.000000  252123.000000   \n",
       "mean     1998.350143      43.379082       1.554115       8.644903   \n",
       "std        10.497821       6.066799      51.553786      35.236419   \n",
       "min      1956.000000       3.455260    -334.953220    -301.005060   \n",
       "25%      1994.000000      39.959190     -25.652865     -11.525215   \n",
       "50%      2002.000000      44.250210       8.654700      10.517340   \n",
       "75%      2006.000000      47.823030      36.250215      29.795445   \n",
       "max      2009.000000      61.970140     384.065730     318.868960   \n",
       "\n",
       "                  S3             S4             S5             S6  \\\n",
       "count  252123.000000  252123.000000  252123.000000  252123.000000   \n",
       "mean        1.160495      -6.526296      -9.531860      -2.367001   \n",
       "std        16.336976      22.842798      12.809783      14.531206   \n",
       "min      -149.962040    -181.953370     -72.717370    -111.017810   \n",
       "25%        -8.492365     -20.588825     -18.403075     -10.770910   \n",
       "50%        -0.641620      -5.998880     -11.189760      -2.072920   \n",
       "75%         8.767810       7.740135      -2.448085       6.512805   \n",
       "max       228.412110     262.068870     166.236890     160.815220   \n",
       "\n",
       "                  S7             S8  ...            S80            S81  \\\n",
       "count  252123.000000  252123.000000  ...  252123.000000  252123.000000   \n",
       "mean       -1.788615       3.712732  ...      15.724619     -73.286196   \n",
       "std         7.963667      10.554074  ...      31.984394     174.926010   \n",
       "min       -68.404510    -119.762620  ...    -437.722030   -2984.920970   \n",
       "25%        -6.473035      -2.296255  ...      -1.788015    -139.031800   \n",
       "50%        -1.727880       3.821940  ...       9.132190     -53.171760   \n",
       "75%         2.913495       9.938115  ...      26.208285      13.413625   \n",
       "max        82.942190      92.792850  ...     840.973380    4469.454870   \n",
       "\n",
       "                 S82            S83            S84            S85  \\\n",
       "count  252123.000000  252123.000000  252123.000000  252123.000000   \n",
       "mean       41.487949      38.044051       0.334009      17.931321   \n",
       "std       122.250505      94.579907      16.021250     114.048957   \n",
       "min     -1810.689190   -1848.702260    -272.289050   -2343.894110   \n",
       "25%       -21.015265      -4.631245      -6.749575     -31.247580   \n",
       "50%        28.675010      33.593230       0.818240      15.846730   \n",
       "75%        89.185855      77.879375       8.451960      67.776985   \n",
       "max      3210.701700    1734.079690     199.121500    3662.065650   \n",
       "\n",
       "                 S86            S87            S88            S89  \n",
       "count  252123.000000  252123.000000  252123.000000  252123.000000  \n",
       "mean      -26.509443       4.488371      19.873068       1.309111  \n",
       "std       173.685614      13.286652     185.161556      22.113446  \n",
       "min     -3819.933620    -233.456480   -7458.378150    -286.031200  \n",
       "25%      -102.179795      -2.536405     -59.734690      -8.819860  \n",
       "50%       -21.623440       3.145800       7.775050       0.062890  \n",
       "75%        51.887175       9.999690      85.829385       9.651235  \n",
       "max      2833.608950     275.353660    7240.653730     600.766240  \n",
       "\n",
       "[8 rows x 91 columns]"
      ]
     },
     "execution_count": 9,
     "metadata": {},
     "output_type": "execute_result"
    }
   ],
   "source": [
    "clean_df.describe()"
   ]
  },
  {
   "cell_type": "markdown",
   "metadata": {},
   "source": [
    "# Rimozione outlier"
   ]
  },
  {
   "cell_type": "code",
   "execution_count": 17,
   "metadata": {},
   "outputs": [],
   "source": [
    "# Itera su ogni anno presente nel DataFrame\n",
    "for year in clean_df['Year'].unique():\n",
    "    # Filtra il DataFrame per l'anno corrente\n",
    "    df_year = clean_df[clean_df['Year'] == year]\n",
    "    \n",
    "    # Calcola la mediana per ogni colonna\n",
    "    median_values = df_year.median()\n",
    "    \n",
    "    # Calcola i limiti per individuare gli outlier per ogni colonna\n",
    "    Q1 = df_year.quantile(0.25)\n",
    "    Q3 = df_year.quantile(0.75)\n",
    "    IQR = Q3 - Q1\n",
    "    lower_limit = Q1 - 1.5 * IQR\n",
    "    upper_limit = Q3 + 1.5 * IQR\n",
    "    \n",
    "    # Sostituisci gli outlier con la mediana per ogni colonna\n",
    "    def replace_outliers(row):\n",
    "        for col in df_year.columns[1:]:  # Escludi la colonna 'year'\n",
    "            if row[col] < lower_limit[col] or row[col] > upper_limit[col]:\n",
    "                row[col] = median_values[col]\n",
    "        return row\n",
    "    \n",
    "    df_year = df_year.apply(replace_outliers, axis=1) # Sostituzione outlier con mediana\n",
    "    \n",
    "    # Sostituisci i dati nel DataFrame originale\n",
    "    clean_df.loc[clean_df['Year'] == year] = df_year"
   ]
  },
  {
   "cell_type": "code",
   "execution_count": 18,
   "metadata": {},
   "outputs": [
    {
     "ename": "NameError",
     "evalue": "name 'df2' is not defined",
     "output_type": "error",
     "traceback": [
      "\u001b[0;31m---------------------------------------------------------------------------\u001b[0m",
      "\u001b[0;31mNameError\u001b[0m                                 Traceback (most recent call last)",
      "Cell \u001b[0;32mIn[18], line 5\u001b[0m\n\u001b[1;32m      2\u001b[0m outliers_after_replacement \u001b[38;5;241m=\u001b[39m []\n\u001b[1;32m      4\u001b[0m \u001b[38;5;66;03m# Calcola gli outlier nel DataFrame df2\u001b[39;00m\n\u001b[0;32m----> 5\u001b[0m \u001b[38;5;28;01mfor\u001b[39;00m col \u001b[38;5;129;01min\u001b[39;00m \u001b[43mdf2\u001b[49m\u001b[38;5;241m.\u001b[39mcolumns:\n\u001b[1;32m      6\u001b[0m     \u001b[38;5;28;01mif\u001b[39;00m col\u001b[38;5;241m.\u001b[39mstartswith(\u001b[38;5;124m'\u001b[39m\u001b[38;5;124mS\u001b[39m\u001b[38;5;124m'\u001b[39m):\n\u001b[1;32m      7\u001b[0m         \u001b[38;5;66;03m# Calcolo dei cinque numeri riassuntivi\u001b[39;00m\n\u001b[1;32m      8\u001b[0m         q1 \u001b[38;5;241m=\u001b[39m df2[col]\u001b[38;5;241m.\u001b[39mquantile(\u001b[38;5;241m0.25\u001b[39m)\n",
      "\u001b[0;31mNameError\u001b[0m: name 'df2' is not defined"
     ]
    }
   ],
   "source": [
    "# Inizializza una lista per memorizzare i risultati dei nuovi outlier\n",
    "outliers_after_replacement = []\n",
    " \n",
    "# Calcola gli outlier nel DataFrame df2\n",
    "for col in clean_df.columns:\n",
    "    if col.startswith('S'):\n",
    "        # Calcolo dei cinque numeri riassuntivi\n",
    "        q1 = clean_df[col].quantile(0.25)\n",
    "        median = clean_df[col].median()\n",
    "        q3 = clean_df[col].quantile(0.75)\n",
    "\n",
    "        # Calcolo dei baffi\n",
    "        iqr = q3 - q1\n",
    "        lower_whisker = q1 - 1.5 * iqr\n",
    "        upper_whisker = q3 + 1.5 * iqr\n",
    "\n",
    "        # Calcolo degli outlier nel DataFrame sostituito\n",
    "        outliers_lower_replaced = clean_df[clean_df[col] < lower_whisker][col]\n",
    "        outliers_upper_replaced = clean_df[clean_df[col] > upper_whisker][col]\n",
    "        num_outliers_replaced = len(outliers_lower_replaced) + len(outliers_upper_replaced)\n",
    " \n",
    "        # Aggiungi i risultati alla lista\n",
    "        outliers_after_replacement.append({\n",
    "            'Feature': col,\n",
    "            'Num_Outliers_After_Replacement': num_outliers_replaced\n",
    "        })\n",
    "\n",
    "\n",
    "# Converti la lista in un DataFrame\n",
    "outliers_replaced_df = pd.DataFrame(outliers_after_replacement)\n",
    " \n",
    "# Unisci il DataFrame originale con il nuovo DataFrame sui risultati dopo la sostituzione\n",
    "outliers_summary_df = df_outliers.merge(outliers_replaced_df, on='Feature')\n",
    " \n",
    "# Visualizza la tabella finale\n",
    "print(outliers_summary_df)"
   ]
  },
  {
   "cell_type": "markdown",
   "metadata": {},
   "source": [
    "### Suddivisione del DataSet"
   ]
  },
  {
   "cell_type": "code",
   "execution_count": 10,
   "metadata": {},
   "outputs": [],
   "source": [
    "X = clean_df.drop(columns=['Year'])  # Non la consideriamo per il modello\n",
    "y = clean_df['Year'] \n",
    "X_train, X_test, y_train, y_test = train_test_split(X, y, test_size=0.2, random_state=42) "
   ]
  },
  {
   "cell_type": "markdown",
   "metadata": {},
   "source": [
    "### Standardizzazione"
   ]
  },
  {
   "cell_type": "code",
   "execution_count": 11,
   "metadata": {},
   "outputs": [
    {
     "name": "stdout",
     "output_type": "stream",
     "text": [
      "\n",
      "Dati di training normalizzati:\n",
      "[[ 1.11523778  0.99254951 -0.60604379 ... -0.31686077  0.12821504\n",
      "  -0.0748598 ]\n",
      " [ 0.9723074   0.39340974 -0.30877134 ... -0.57019125 -0.33966922\n",
      "  -0.40339726]\n",
      " [ 1.25854557  0.56623081  1.03087905 ... -0.27038536  0.48972211\n",
      "   0.34192717]\n",
      " ...\n",
      " [ 0.62506856  1.58337359 -0.66712655 ... -0.38625943 -0.49931311\n",
      "  -0.66994517]\n",
      " [-0.45876481 -0.89315637 -0.41003635 ...  0.28574844  0.80761915\n",
      "  -0.06129659]\n",
      " [-0.05552726 -0.28012032 -1.16357997 ...  0.3951414  -1.04961578\n",
      "  -0.17714599]]\n"
     ]
    }
   ],
   "source": [
    "scaler = StandardScaler()\n",
    "\n",
    "X_train_scaled = scaler.fit_transform(X_train)\n",
    "X_test_scaled = scaler.transform(X_test)\n",
    "\n",
    "# Salva il modello di scaling\n",
    "with open('scaler.pkl', 'wb') as f:\n",
    "    pickle.dump(scaler, f)\n",
    "\n",
    "print(\"\\nDati di training normalizzati:\")\n",
    "print(X_train_scaled)"
   ]
  },
  {
   "cell_type": "markdown",
   "metadata": {},
   "source": [
    "# Modeling"
   ]
  },
  {
   "cell_type": "markdown",
   "metadata": {},
   "source": [
    "### PCA"
   ]
  },
  {
   "cell_type": "code",
   "execution_count": 12,
   "metadata": {},
   "outputs": [
    {
     "name": "stdout",
     "output_type": "stream",
     "text": [
      "Numero di componenti principali: 67\n",
      "Forma dei dati di training dopo PCA: (201698, 67)\n",
      "Forma dei dati di test dopo PCA: (50425, 67)\n"
     ]
    }
   ],
   "source": [
    "# Riduzione della dimensionalità con PCA\n",
    "pca = PCA(n_components=0.95)  # Mantieni il 95% della varianza spiegata\n",
    "X_train_pca = pca.fit_transform(X_train_scaled)\n",
    "X_test_pca = pca.transform(X_test_scaled)\n",
    "\n",
    "print(f\"Numero di componenti principali: {pca.n_components_}\")\n",
    "print(f\"Forma dei dati di training dopo PCA: {X_train_pca.shape}\")\n",
    "print(f\"Forma dei dati di test dopo PCA: {X_test_pca.shape}\")"
   ]
  },
  {
   "cell_type": "code",
   "execution_count": 13,
   "metadata": {},
   "outputs": [
    {
     "data": {
      "image/png": "[encoded data removed]",
      "text/plain": [
       "<Figure size 1000x1000 with 1 Axes>"
      ]
     },
     "metadata": {},
     "output_type": "display_data"
    },
    {
     "name": "stdout",
     "output_type": "stream",
     "text": [
      "Explainer variance of each component: [0.11473394 0.07827068 0.05874241 0.04203498 0.03759528 0.02796334\n",
      " 0.02385404 0.02305073 0.02117512 0.02026683 0.01909802 0.01876466\n",
      " 0.01811801 0.01696774 0.01617874 0.01591935 0.01524432 0.01403409\n",
      " 0.01400077 0.0134806  0.01311178 0.01262608 0.01233125 0.0117873\n",
      " 0.01153085 0.01140069 0.01108067 0.01096267 0.01045499 0.01009085\n",
      " 0.0099245  0.00949832 0.00925379 0.00892138 0.00839578 0.00815542\n",
      " 0.00807133 0.0079663  0.00768503 0.00749284 0.00731072 0.00712106\n",
      " 0.00698482 0.00684726 0.00658572 0.00626926 0.00624158 0.00612078\n",
      " 0.00602194 0.00579327 0.00564639 0.00549447 0.00536356 0.00514714\n",
      " 0.00503949 0.00499849 0.00482024 0.00468568 0.00461939 0.00437099\n",
      " 0.00417003 0.00406906 0.00397042 0.00389276 0.00372712 0.00363565\n",
      " 0.00350014]\n",
      "Variance total: 0.9526828762853687\n"
     ]
    }
   ],
   "source": [
    "#Scree Plot -> mostra la percentuale di variazione spiegata da ogni componente principale\n",
    "PC_values = np.arange(pca.n_components_) + 1\n",
    "plt.figure(figsize=(10,10))\n",
    "plt.grid()\n",
    "plt.plot(PC_values, pca.explained_variance_ratio_, 'o-', linewidth=2, color='blue')\n",
    "plt.title('Scree Plot')\n",
    "plt.xlabel('Principal Component')\n",
    "plt.xticks(range(0,90,2))\n",
    "plt.ylabel('Variance Explained')\n",
    "plt.show()\n",
    "print(\"Explainer variance of each component:\",pca.explained_variance_ratio_)\n",
    "print(\"Variance total:\", sum(pca.explained_variance_ratio_))"
   ]
  },
  {
   "cell_type": "markdown",
   "metadata": {},
   "source": []
  }
 ],
 "metadata": {
  "kernelspec": {
   "display_name": "Python 3",
   "language": "python",
   "name": "python3"
  },
  "language_info": {
   "codemirror_mode": {
    "name": "ipython",
    "version": 3
   },
   "file_extension": ".py",
   "mimetype": "text/x-python",
   "name": "python",
   "nbconvert_exporter": "python",
   "pygments_lexer": "ipython3",
   "version": "3.12.1"
  }
 },
 "nbformat": 4,
 "nbformat_minor": 2
}
