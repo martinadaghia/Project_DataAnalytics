{
 "cells": [
  {
   "cell_type": "markdown",
   "metadata": {},
   "source": [
    "# Data Preprocessing"
   ]
  },
  {
   "cell_type": "markdown",
   "metadata": {},
   "source": [
    "### Importazione librerie"
   ]
  },
  {
   "cell_type": "code",
   "execution_count": 22,
   "metadata": {},
   "outputs": [],
   "source": [
    "import pandas as pd\n",
    "import numpy as np\n",
    "import matplotlib.pyplot as plt\n",
    "from sklearn.model_selection import train_test_split\n",
    "from sklearn.preprocessing import StandardScaler\n",
    "from sklearn.decomposition import PCA\n",
    "import pickle\n",
    "\n",
    "from sklearn.decomposition import PCA\n",
    "from sklearn.metrics import mean_squared_error, r2_score\n",
    "from sklearn.linear_model import LinearRegression\n",
    "from sklearn.ensemble import RandomForestRegressor\n",
    "from sklearn.svm import SVR\n",
    "\n",
    "import numpy as np\n",
    "from sklearn.metrics import mean_absolute_error, mean_squared_error, r2_score, mean_absolute_percentage_error\n",
    "from sklearn.model_selection import GridSearchCV\n",
    "import pickle\n",
    "\n",
    "from sklearn.linear_model import LinearRegression\n",
    "from sklearn.ensemble import RandomForestRegressor\n",
    "from sklearn.neighbors import KNeighborsRegressor\n",
    "from sklearn.svm import SVR\n",
    "import joblib"
   ]
  },
  {
   "cell_type": "markdown",
   "metadata": {},
   "source": [
    "### Caricamento file train.csv"
   ]
  },
  {
   "cell_type": "code",
   "execution_count": 2,
   "metadata": {},
   "outputs": [],
   "source": [
    "file_path = \"../../train.csv\"\n",
    "df = pd.read_csv(file_path)"
   ]
  },
  {
   "cell_type": "markdown",
   "metadata": {},
   "source": [
    "### Controllo  e rimozione valori nulli e duplicati"
   ]
  },
  {
   "cell_type": "code",
   "execution_count": 3,
   "metadata": {},
   "outputs": [
    {
     "name": "stdout",
     "output_type": "stream",
     "text": [
      "\n",
      "Valori mancanti nel DataFrame per ciascuna colonna:\n",
      "Year    0\n",
      "S0      0\n",
      "S1      0\n",
      "S2      0\n",
      "S3      0\n",
      "       ..\n",
      "S85     0\n",
      "S86     0\n",
      "S87     0\n",
      "S88     0\n",
      "S89     0\n",
      "Length: 91, dtype: int64\n",
      "\n",
      "Totale dei valori mancanti nel DataFrame:\n",
      "0\n"
     ]
    }
   ],
   "source": [
    "# Valori mancanti per ciascuna colonna\n",
    "missing_values_per_column = df.isnull().sum()\n",
    "print(\"\\nValori mancanti nel DataFrame per ciascuna colonna:\")\n",
    "print(missing_values_per_column)\n",
    "\n",
    "# Totale dei valori mancanti in tutto il DataFrame\n",
    "total_missing_values = missing_values_per_column.sum()\n",
    "print(f\"\\nTotale dei valori mancanti nel DataFrame:\\n{total_missing_values}\")"
   ]
  },
  {
   "cell_type": "code",
   "execution_count": 4,
   "metadata": {},
   "outputs": [
    {
     "name": "stdout",
     "output_type": "stream",
     "text": [
      "\n",
      "Duplicati nel DataFrame:\n",
      "52\n"
     ]
    }
   ],
   "source": [
    "print(\"\\nDuplicati nel DataFrame:\")\n",
    "print(df.duplicated().sum())"
   ]
  },
  {
   "cell_type": "code",
   "execution_count": 5,
   "metadata": {},
   "outputs": [],
   "source": [
    "clean_df = df.dropna() \n",
    "clean_df = df.drop_duplicates()"
   ]
  },
  {
   "cell_type": "code",
   "execution_count": 6,
   "metadata": {},
   "outputs": [
    {
     "name": "stdout",
     "output_type": "stream",
     "text": [
      "\n",
      "Totale dei valori mancanti nel DataFrame: 0\n",
      "\n",
      "Duplicati nel DataFrame: 0\n"
     ]
    }
   ],
   "source": [
    "# Verifica rimozione valori nulli e duplicati\n",
    "total_missing_values = missing_values_per_column.sum()\n",
    "print(f\"\\nTotale dei valori mancanti nel DataFrame: {total_missing_values}\")\n",
    "print(f\"\\nDuplicati nel DataFrame: {clean_df.duplicated().sum()}\")"
   ]
  },
  {
   "cell_type": "code",
   "execution_count": 7,
   "metadata": {},
   "outputs": [
    {
     "data": {
      "text/html": [
       "<div>\n",
       "<style scoped>\n",
       "    .dataframe tbody tr th:only-of-type {\n",
       "        vertical-align: middle;\n",
       "    }\n",
       "\n",
       "    .dataframe tbody tr th {\n",
       "        vertical-align: top;\n",
       "    }\n",
       "\n",
       "    .dataframe thead th {\n",
       "        text-align: right;\n",
       "    }\n",
       "</style>\n",
       "<table border=\"1\" class=\"dataframe\">\n",
       "  <thead>\n",
       "    <tr style=\"text-align: right;\">\n",
       "      <th></th>\n",
       "      <th>Year</th>\n",
       "      <th>S0</th>\n",
       "      <th>S1</th>\n",
       "      <th>S2</th>\n",
       "      <th>S3</th>\n",
       "      <th>S4</th>\n",
       "      <th>S5</th>\n",
       "      <th>S6</th>\n",
       "      <th>S7</th>\n",
       "      <th>S8</th>\n",
       "      <th>...</th>\n",
       "      <th>S80</th>\n",
       "      <th>S81</th>\n",
       "      <th>S82</th>\n",
       "      <th>S83</th>\n",
       "      <th>S84</th>\n",
       "      <th>S85</th>\n",
       "      <th>S86</th>\n",
       "      <th>S87</th>\n",
       "      <th>S88</th>\n",
       "      <th>S89</th>\n",
       "    </tr>\n",
       "  </thead>\n",
       "  <tbody>\n",
       "    <tr>\n",
       "      <th>count</th>\n",
       "      <td>252123.000000</td>\n",
       "      <td>252123.000000</td>\n",
       "      <td>252123.000000</td>\n",
       "      <td>252123.000000</td>\n",
       "      <td>252123.000000</td>\n",
       "      <td>252123.000000</td>\n",
       "      <td>252123.000000</td>\n",
       "      <td>252123.000000</td>\n",
       "      <td>252123.000000</td>\n",
       "      <td>252123.000000</td>\n",
       "      <td>...</td>\n",
       "      <td>252123.000000</td>\n",
       "      <td>252123.000000</td>\n",
       "      <td>252123.000000</td>\n",
       "      <td>252123.000000</td>\n",
       "      <td>252123.000000</td>\n",
       "      <td>252123.000000</td>\n",
       "      <td>252123.000000</td>\n",
       "      <td>252123.000000</td>\n",
       "      <td>252123.000000</td>\n",
       "      <td>252123.000000</td>\n",
       "    </tr>\n",
       "    <tr>\n",
       "      <th>mean</th>\n",
       "      <td>1998.350143</td>\n",
       "      <td>43.379082</td>\n",
       "      <td>1.554115</td>\n",
       "      <td>8.644903</td>\n",
       "      <td>1.160495</td>\n",
       "      <td>-6.526296</td>\n",
       "      <td>-9.531860</td>\n",
       "      <td>-2.367001</td>\n",
       "      <td>-1.788615</td>\n",
       "      <td>3.712732</td>\n",
       "      <td>...</td>\n",
       "      <td>15.724619</td>\n",
       "      <td>-73.286196</td>\n",
       "      <td>41.487949</td>\n",
       "      <td>38.044051</td>\n",
       "      <td>0.334009</td>\n",
       "      <td>17.931321</td>\n",
       "      <td>-26.509443</td>\n",
       "      <td>4.488371</td>\n",
       "      <td>19.873068</td>\n",
       "      <td>1.309111</td>\n",
       "    </tr>\n",
       "    <tr>\n",
       "      <th>std</th>\n",
       "      <td>10.497821</td>\n",
       "      <td>6.066799</td>\n",
       "      <td>51.553786</td>\n",
       "      <td>35.236419</td>\n",
       "      <td>16.336976</td>\n",
       "      <td>22.842798</td>\n",
       "      <td>12.809783</td>\n",
       "      <td>14.531206</td>\n",
       "      <td>7.963667</td>\n",
       "      <td>10.554074</td>\n",
       "      <td>...</td>\n",
       "      <td>31.984394</td>\n",
       "      <td>174.926010</td>\n",
       "      <td>122.250505</td>\n",
       "      <td>94.579907</td>\n",
       "      <td>16.021250</td>\n",
       "      <td>114.048957</td>\n",
       "      <td>173.685614</td>\n",
       "      <td>13.286652</td>\n",
       "      <td>185.161556</td>\n",
       "      <td>22.113446</td>\n",
       "    </tr>\n",
       "    <tr>\n",
       "      <th>min</th>\n",
       "      <td>1956.000000</td>\n",
       "      <td>3.455260</td>\n",
       "      <td>-334.953220</td>\n",
       "      <td>-301.005060</td>\n",
       "      <td>-149.962040</td>\n",
       "      <td>-181.953370</td>\n",
       "      <td>-72.717370</td>\n",
       "      <td>-111.017810</td>\n",
       "      <td>-68.404510</td>\n",
       "      <td>-119.762620</td>\n",
       "      <td>...</td>\n",
       "      <td>-437.722030</td>\n",
       "      <td>-2984.920970</td>\n",
       "      <td>-1810.689190</td>\n",
       "      <td>-1848.702260</td>\n",
       "      <td>-272.289050</td>\n",
       "      <td>-2343.894110</td>\n",
       "      <td>-3819.933620</td>\n",
       "      <td>-233.456480</td>\n",
       "      <td>-7458.378150</td>\n",
       "      <td>-286.031200</td>\n",
       "    </tr>\n",
       "    <tr>\n",
       "      <th>25%</th>\n",
       "      <td>1994.000000</td>\n",
       "      <td>39.959190</td>\n",
       "      <td>-25.652865</td>\n",
       "      <td>-11.525215</td>\n",
       "      <td>-8.492365</td>\n",
       "      <td>-20.588825</td>\n",
       "      <td>-18.403075</td>\n",
       "      <td>-10.770910</td>\n",
       "      <td>-6.473035</td>\n",
       "      <td>-2.296255</td>\n",
       "      <td>...</td>\n",
       "      <td>-1.788015</td>\n",
       "      <td>-139.031800</td>\n",
       "      <td>-21.015265</td>\n",
       "      <td>-4.631245</td>\n",
       "      <td>-6.749575</td>\n",
       "      <td>-31.247580</td>\n",
       "      <td>-102.179795</td>\n",
       "      <td>-2.536405</td>\n",
       "      <td>-59.734690</td>\n",
       "      <td>-8.819860</td>\n",
       "    </tr>\n",
       "    <tr>\n",
       "      <th>50%</th>\n",
       "      <td>2002.000000</td>\n",
       "      <td>44.250210</td>\n",
       "      <td>8.654700</td>\n",
       "      <td>10.517340</td>\n",
       "      <td>-0.641620</td>\n",
       "      <td>-5.998880</td>\n",
       "      <td>-11.189760</td>\n",
       "      <td>-2.072920</td>\n",
       "      <td>-1.727880</td>\n",
       "      <td>3.821940</td>\n",
       "      <td>...</td>\n",
       "      <td>9.132190</td>\n",
       "      <td>-53.171760</td>\n",
       "      <td>28.675010</td>\n",
       "      <td>33.593230</td>\n",
       "      <td>0.818240</td>\n",
       "      <td>15.846730</td>\n",
       "      <td>-21.623440</td>\n",
       "      <td>3.145800</td>\n",
       "      <td>7.775050</td>\n",
       "      <td>0.062890</td>\n",
       "    </tr>\n",
       "    <tr>\n",
       "      <th>75%</th>\n",
       "      <td>2006.000000</td>\n",
       "      <td>47.823030</td>\n",
       "      <td>36.250215</td>\n",
       "      <td>29.795445</td>\n",
       "      <td>8.767810</td>\n",
       "      <td>7.740135</td>\n",
       "      <td>-2.448085</td>\n",
       "      <td>6.512805</td>\n",
       "      <td>2.913495</td>\n",
       "      <td>9.938115</td>\n",
       "      <td>...</td>\n",
       "      <td>26.208285</td>\n",
       "      <td>13.413625</td>\n",
       "      <td>89.185855</td>\n",
       "      <td>77.879375</td>\n",
       "      <td>8.451960</td>\n",
       "      <td>67.776985</td>\n",
       "      <td>51.887175</td>\n",
       "      <td>9.999690</td>\n",
       "      <td>85.829385</td>\n",
       "      <td>9.651235</td>\n",
       "    </tr>\n",
       "    <tr>\n",
       "      <th>max</th>\n",
       "      <td>2009.000000</td>\n",
       "      <td>61.970140</td>\n",
       "      <td>384.065730</td>\n",
       "      <td>318.868960</td>\n",
       "      <td>228.412110</td>\n",
       "      <td>262.068870</td>\n",
       "      <td>166.236890</td>\n",
       "      <td>160.815220</td>\n",
       "      <td>82.942190</td>\n",
       "      <td>92.792850</td>\n",
       "      <td>...</td>\n",
       "      <td>840.973380</td>\n",
       "      <td>4469.454870</td>\n",
       "      <td>3210.701700</td>\n",
       "      <td>1734.079690</td>\n",
       "      <td>199.121500</td>\n",
       "      <td>3662.065650</td>\n",
       "      <td>2833.608950</td>\n",
       "      <td>275.353660</td>\n",
       "      <td>7240.653730</td>\n",
       "      <td>600.766240</td>\n",
       "    </tr>\n",
       "  </tbody>\n",
       "</table>\n",
       "<p>8 rows × 91 columns</p>\n",
       "</div>"
      ],
      "text/plain": [
       "                Year             S0             S1             S2  \\\n",
       "count  252123.000000  252123.000000  252123.000000  252123.000000   \n",
       "mean     1998.350143      43.379082       1.554115       8.644903   \n",
       "std        10.497821       6.066799      51.553786      35.236419   \n",
       "min      1956.000000       3.455260    -334.953220    -301.005060   \n",
       "25%      1994.000000      39.959190     -25.652865     -11.525215   \n",
       "50%      2002.000000      44.250210       8.654700      10.517340   \n",
       "75%      2006.000000      47.823030      36.250215      29.795445   \n",
       "max      2009.000000      61.970140     384.065730     318.868960   \n",
       "\n",
       "                  S3             S4             S5             S6  \\\n",
       "count  252123.000000  252123.000000  252123.000000  252123.000000   \n",
       "mean        1.160495      -6.526296      -9.531860      -2.367001   \n",
       "std        16.336976      22.842798      12.809783      14.531206   \n",
       "min      -149.962040    -181.953370     -72.717370    -111.017810   \n",
       "25%        -8.492365     -20.588825     -18.403075     -10.770910   \n",
       "50%        -0.641620      -5.998880     -11.189760      -2.072920   \n",
       "75%         8.767810       7.740135      -2.448085       6.512805   \n",
       "max       228.412110     262.068870     166.236890     160.815220   \n",
       "\n",
       "                  S7             S8  ...            S80            S81  \\\n",
       "count  252123.000000  252123.000000  ...  252123.000000  252123.000000   \n",
       "mean       -1.788615       3.712732  ...      15.724619     -73.286196   \n",
       "std         7.963667      10.554074  ...      31.984394     174.926010   \n",
       "min       -68.404510    -119.762620  ...    -437.722030   -2984.920970   \n",
       "25%        -6.473035      -2.296255  ...      -1.788015    -139.031800   \n",
       "50%        -1.727880       3.821940  ...       9.132190     -53.171760   \n",
       "75%         2.913495       9.938115  ...      26.208285      13.413625   \n",
       "max        82.942190      92.792850  ...     840.973380    4469.454870   \n",
       "\n",
       "                 S82            S83            S84            S85  \\\n",
       "count  252123.000000  252123.000000  252123.000000  252123.000000   \n",
       "mean       41.487949      38.044051       0.334009      17.931321   \n",
       "std       122.250505      94.579907      16.021250     114.048957   \n",
       "min     -1810.689190   -1848.702260    -272.289050   -2343.894110   \n",
       "25%       -21.015265      -4.631245      -6.749575     -31.247580   \n",
       "50%        28.675010      33.593230       0.818240      15.846730   \n",
       "75%        89.185855      77.879375       8.451960      67.776985   \n",
       "max      3210.701700    1734.079690     199.121500    3662.065650   \n",
       "\n",
       "                 S86            S87            S88            S89  \n",
       "count  252123.000000  252123.000000  252123.000000  252123.000000  \n",
       "mean      -26.509443       4.488371      19.873068       1.309111  \n",
       "std       173.685614      13.286652     185.161556      22.113446  \n",
       "min     -3819.933620    -233.456480   -7458.378150    -286.031200  \n",
       "25%      -102.179795      -2.536405     -59.734690      -8.819860  \n",
       "50%       -21.623440       3.145800       7.775050       0.062890  \n",
       "75%        51.887175       9.999690      85.829385       9.651235  \n",
       "max      2833.608950     275.353660    7240.653730     600.766240  \n",
       "\n",
       "[8 rows x 91 columns]"
      ]
     },
     "execution_count": 7,
     "metadata": {},
     "output_type": "execute_result"
    }
   ],
   "source": [
    "clean_df.describe()"
   ]
  },
  {
   "cell_type": "markdown",
   "metadata": {},
   "source": [
    "# Rimozione outlier e visualizzazione post rimozione"
   ]
  },
  {
   "cell_type": "code",
   "execution_count": 8,
   "metadata": {},
   "outputs": [],
   "source": [
    "# Itera su ogni anno presente nel DataFrame\n",
    "for year in clean_df['Year'].unique():\n",
    "    # Filtra il DataFrame per l'anno corrente\n",
    "    df_year = clean_df[clean_df['Year'] == year]\n",
    "    \n",
    "    # Calcola la mediana per ogni colonna\n",
    "    median_values = df_year.median()\n",
    "    \n",
    "    # Calcola i limiti per individuare gli outlier per ogni colonna\n",
    "    Q1 = df_year.quantile(0.25)\n",
    "    Q3 = df_year.quantile(0.75)\n",
    "    IQR = Q3 - Q1\n",
    "    lower_limit = Q1 - 1.5 * IQR\n",
    "    upper_limit = Q3 + 1.5 * IQR\n",
    "    \n",
    "    # Sostituisci gli outlier con la mediana per ogni colonna\n",
    "    def replace_outliers(row):\n",
    "        for col in df_year.columns[1:]:  # Escludi la colonna 'year'\n",
    "            if row[col] < lower_limit[col] or row[col] > upper_limit[col]:\n",
    "                row[col] = median_values[col]\n",
    "        return row\n",
    "    \n",
    "    df_year = df_year.apply(replace_outliers, axis=1) # Sostituzione outlier con mediana\n",
    "    \n",
    "    # Sostituisci i dati nel DataFrame originale\n",
    "    clean_df.loc[clean_df['Year'] == year] = df_year"
   ]
  },
  {
   "cell_type": "code",
   "execution_count": 9,
   "metadata": {},
   "outputs": [],
   "source": [
    "file_path = \"../outliers_data/df_outliers.csv\"\n",
    "df_outliers = pd.read_csv(file_path)"
   ]
  },
  {
   "cell_type": "code",
   "execution_count": 10,
   "metadata": {},
   "outputs": [
    {
     "name": "stdout",
     "output_type": "stream",
     "text": [
      "   Colonna  Numero Outliers Percentuale Outliers  Numero nuovo Outliers  \\\n",
      "0       S0             5306                2.10%                   1492   \n",
      "1       S1             7313                2.90%                   2684   \n",
      "2       S2             7484                2.97%                   2657   \n",
      "3       S3            11229                4.45%                   4782   \n",
      "4       S4             5224                2.07%                   1429   \n",
      "..     ...              ...                  ...                    ...   \n",
      "85     S85            16608                6.59%                   8073   \n",
      "86     S86            15876                6.30%                   7731   \n",
      "87     S87            14794                5.87%                   7548   \n",
      "88     S88            19031                7.55%                   9973   \n",
      "89     S89            19330                7.67%                  10960   \n",
      "\n",
      "   Percentuale nuova Outliers  \n",
      "0                       0.59%  \n",
      "1                       1.06%  \n",
      "2                       1.05%  \n",
      "3                       1.90%  \n",
      "4                       0.57%  \n",
      "..                        ...  \n",
      "85                      3.20%  \n",
      "86                      3.07%  \n",
      "87                      2.99%  \n",
      "88                      3.95%  \n",
      "89                      4.35%  \n",
      "\n",
      "[90 rows x 5 columns]\n"
     ]
    }
   ],
   "source": [
    "# Seleziona solo le colonne che iniziano con 'S'\n",
    "colonne_s = [col for col in df.columns if col.startswith('S')]\n",
    "\n",
    "# Lista per memorizzare i risultati\n",
    "risultati_nuovi_outliers = []\n",
    "\n",
    "# Ciclo attraverso ogni colonna 'S'\n",
    "for col in colonne_s:\n",
    "    # Calcola i quantili e l'IQR (Interquartile Range)\n",
    "    q1 = clean_df[col].quantile(0.25)\n",
    "    q3 = clean_df[col].quantile(0.75)\n",
    "    iqr = q3 - q1\n",
    "    \n",
    "    # Calcola i baffi inferiori e superiori\n",
    "    baffo_inferiore = q1 - 1.5 * iqr\n",
    "    baffo_superiore = q3 + 1.5 * iqr\n",
    "    \n",
    "    # Trova gli outliers inferiori e superiori\n",
    "    outliers_inferiori = clean_df[clean_df[col] < baffo_inferiore]\n",
    "    outliers_superiori = clean_df[clean_df[col] > baffo_superiore]\n",
    "    numero_outliers = len(outliers_inferiori) + len(outliers_superiori)\n",
    "    \n",
    "    # Calcola la percentuale di outliers\n",
    "    percentuale_outliers = (numero_outliers / len(df)) * 100\n",
    "    \n",
    "    # Aggiungi i risultati alla lista\n",
    "    risultati_nuovi_outliers.append({\n",
    "        'Colonna': col,\n",
    "        'Numero Outliers': numero_outliers,\n",
    "        'Percentuale Outliers': f'{percentuale_outliers:.2f}%'\n",
    "    })\n",
    "\n",
    "# Converti la lista in un DataFrame\n",
    "df_nuovi_outliers = pd.DataFrame(risultati_nuovi_outliers)\n",
    "\n",
    "#print(df_nuovi_outliers)\n",
    " \n",
    "# Unisci il DataFrame originale con il nuovo DataFrame sui risultati dopo la sostituzione\n",
    "outliers_summary_df = df_outliers.merge(df_nuovi_outliers, on='Colonna')\n",
    "\n",
    "# Rinomina le colonne per rimuovere '_x' e '_y'\n",
    "outliers_summary_df = outliers_summary_df.rename(columns={\n",
    "    'Numero Outliers_x': 'Numero Outliers',\n",
    "    'Percentuale Outliers_x': 'Percentuale Outliers',\n",
    "    'Numero Outliers_y': 'Numero nuovo Outliers',\n",
    "    'Percentuale Outliers_y': 'Percentuale nuova Outliers'\n",
    "})\n",
    " \n",
    "# Visualizza la tabella finale\n",
    "print(outliers_summary_df)"
   ]
  },
  {
   "cell_type": "markdown",
   "metadata": {},
   "source": [
    "### Suddivisione del DataSet"
   ]
  },
  {
   "cell_type": "code",
   "execution_count": 11,
   "metadata": {},
   "outputs": [],
   "source": [
    "X = clean_df.drop(columns=['Year'])  # Non la consideriamo per il modello\n",
    "y = clean_df['Year'] \n",
    "X_train, X_test, y_train, y_test = train_test_split(X, y, test_size=0.2, random_state=42) "
   ]
  },
  {
   "cell_type": "markdown",
   "metadata": {},
   "source": [
    "### Standardizzazione"
   ]
  },
  {
   "cell_type": "code",
   "execution_count": 12,
   "metadata": {},
   "outputs": [],
   "source": [
    "scaler = StandardScaler()\n",
    "\n",
    "X_train_scaled = scaler.fit_transform(X_train)\n",
    "X_test_scaled = scaler.transform(X_test)\n",
    "\n",
    "# Salva il modello di scaling\n",
    "with open('scaler.pkl', 'wb') as f:\n",
    "    pickle.dump(scaler, f)"
   ]
  },
  {
   "cell_type": "code",
   "execution_count": 13,
   "metadata": {},
   "outputs": [
    {
     "name": "stdout",
     "output_type": "stream",
     "text": [
      "Dimensione del training set: 201698 (80.00% del dataset totale)\n",
      "Dimensione del test set: 50425 (20.00% del dataset totale)\n"
     ]
    }
   ],
   "source": [
    "training_set_size = X_train.shape[0]\n",
    "test_set_size = X_test.shape[0]\n",
    "total_size = X.shape[0]\n",
    "\n",
    "print(f\"Dimensione del training set: {training_set_size} ({(training_set_size / total_size) * 100:.2f}% del dataset totale)\")\n",
    "print(f\"Dimensione del test set: {test_set_size} ({(test_set_size / total_size) * 100:.2f}% del dataset totale)\")\n",
    "\n",
    "# print(\"\\nDati di training normalizzati:\")\n",
    "# print(X_train_scaled)"
   ]
  },
  {
   "cell_type": "markdown",
   "metadata": {},
   "source": [
    "### PCA"
   ]
  },
  {
   "cell_type": "code",
   "execution_count": 14,
   "metadata": {},
   "outputs": [],
   "source": [
    "X_rf = clean_df.drop('Year', axis=1)\n",
    "y_rf = clean_df['Year']"
   ]
  },
  {
   "cell_type": "code",
   "execution_count": 15,
   "metadata": {},
   "outputs": [
    {
     "name": "stdout",
     "output_type": "stream",
     "text": [
      "Numero di componenti principali: 76\n",
      "Forma dei dati di training dopo PCA: (201698, 76)\n",
      "Forma dei dati di test dopo PCA: (50425, 76)\n"
     ]
    }
   ],
   "source": [
    "# Riduzione della dimensionalità con PCA\n",
    "pca = PCA(n_components=0.95)  # Mantieni il 95% della varianza spiegata\n",
    "X_train_pca = pca.fit_transform(X_train_scaled)\n",
    "X_test_pca = pca.transform(X_test_scaled)\n",
    "\n",
    "print(f\"Numero di componenti principali: {pca.n_components_}\")\n",
    "print(f\"Forma dei dati di training dopo PCA: {X_train_pca.shape}\")\n",
    "print(f\"Forma dei dati di test dopo PCA: {X_test_pca.shape}\") "
   ]
  },
  {
   "cell_type": "code",
   "execution_count": 16,
   "metadata": {},
   "outputs": [
    {
     "data": {
      "image/png": "[encoded data removed]",
      "text/plain": [
       "<Figure size 1000x1000 with 1 Axes>"
      ]
     },
     "metadata": {},
     "output_type": "display_data"
    },
    {
     "name": "stdout",
     "output_type": "stream",
     "text": [
      "Explainer variance of each component: [0.09692469 0.05412895 0.04806441 0.03933065 0.02857302 0.02443236\n",
      " 0.02161112 0.01961974 0.01890284 0.01788984 0.017096   0.01669412\n",
      " 0.01615147 0.01531919 0.01478145 0.01432042 0.01386291 0.01341789\n",
      " 0.01324431 0.01272169 0.0124973  0.01195174 0.01176963 0.01143497\n",
      " 0.01126016 0.01094845 0.01091529 0.01052434 0.01033505 0.01021099\n",
      " 0.01005563 0.01001322 0.00976837 0.00937    0.0091539  0.00906982\n",
      " 0.00883007 0.00881955 0.00861228 0.00843029 0.0083641  0.00825738\n",
      " 0.00809597 0.00790401 0.00788197 0.00758495 0.00756961 0.00750773\n",
      " 0.00737644 0.00724875 0.00716583 0.00709692 0.00701649 0.00692097\n",
      " 0.00688887 0.00669458 0.00663192 0.00653223 0.00640386 0.00632932\n",
      " 0.0061705  0.00603308 0.00590975 0.00581946 0.00576287 0.00566026\n",
      " 0.00557619 0.00552181 0.00541372 0.00540309 0.00525479 0.00506456\n",
      " 0.00497037 0.00472363 0.00467908 0.0045433 ]\n",
      "Variance total: 0.9530364539951103\n"
     ]
    }
   ],
   "source": [
    "#Scree Plot -> mostra la percentuale di variazione spiegata da ogni componente principale\n",
    "PC_values = np.arange(pca.n_components_) + 1\n",
    "plt.figure(figsize=(10,10))\n",
    "plt.grid()\n",
    "plt.plot(PC_values, pca.explained_variance_ratio_, 'o-', linewidth=2, color='blue')\n",
    "plt.title('Scree Plot')\n",
    "plt.xlabel('Principal Component')\n",
    "plt.xticks(range(0,90,2))\n",
    "plt.ylabel('Variance Explained')\n",
    "plt.show()\n",
    "print(\"Explainer variance of each component:\",pca.explained_variance_ratio_)\n",
    "print(\"Variance total:\", sum(pca.explained_variance_ratio_))"
   ]
  },
  {
   "cell_type": "markdown",
   "metadata": {},
   "source": []
  },
  {
   "cell_type": "markdown",
   "metadata": {},
   "source": [
    "# Modeling"
   ]
  },
  {
   "cell_type": "code",
   "execution_count": 24,
   "metadata": {},
   "outputs": [],
   "source": [
    "# Calcolo e stampe metriche di valutazione del modello\n",
    "def valutazione_modello(y_true, y_pred):\n",
    "    mse = mean_squared_error(y_true, y_pred)\n",
    "    mae = mean_absolute_error(y_true, y_pred)\n",
    "    mape = np.mean(np.abs((y_true - y_pred) / y_true)) * 100\n",
    "    r2 = r2_score(y_true, y_pred)\n",
    "    \n",
    "    print(f\"MSE: {mse}\")\n",
    "    print(f\"MAE: {mae}\")\n",
    "    print(f\"MAPE: {mape}%\")\n",
    "    print(f\"R-squared: {r2}\")\n",
    "    return mse, mae, mape, r2"
   ]
  },
  {
   "cell_type": "markdown",
   "metadata": {},
   "source": [
    "## Random Forest\n",
    "Un ensemble di alberi decisionali, che predice in base alla media delle previsioni degli alberi individuali."
   ]
  },
  {
   "cell_type": "code",
   "execution_count": 29,
   "metadata": {},
   "outputs": [],
   "source": [
    "'''\n",
    "# Definizione dei parametri per il tuning\n",
    "param_grid_rf = {\n",
    "    'n_estimators': [100],\n",
    "    'max_depth': [80], \n",
    "    'min_samples_split': [82],\n",
    "    'min_samples_leaf': [5] \n",
    "}\n",
    "\n",
    "# Creazione del modello e GridSearchCV\n",
    "rf = RandomForestRegressor(random_state=42)\n",
    "grid_rf = GridSearchCV(estimator=rf, param_grid=param_grid_rf, cv=5, scoring='neg_mean_squared_error')\n",
    "grid_rf.fit(X_train_scaled, y_train)\n",
    "\n",
    "# Migliori parametri trovati\n",
    "print(f\"Best parameters for Random Forest: {grid_rf.best_params_}\")\n",
    "\n",
    "# Predizione\n",
    "y_pred_rf = grid_rf.best_estimator_.predict(X_test_scaled)\n",
    "\n",
    "# Valutazione del modello\n",
    "print(\"Random Forest Performance:\")\n",
    "valutazione_modello(y_test, y_pred_rf)\n",
    "'''"
   ]
  },
  {
   "cell_type": "code",
   "execution_count": 1,
   "metadata": {},
   "outputs": [
    {
     "ename": "NameError",
     "evalue": "name 'RandomForestRegressor' is not defined",
     "output_type": "error",
     "traceback": [
      "\u001b[0;31m---------------------------------------------------------------------------\u001b[0m",
      "\u001b[0;31mNameError\u001b[0m                                 Traceback (most recent call last)",
      "Cell \u001b[0;32mIn[1], line 2\u001b[0m\n\u001b[1;32m      1\u001b[0m \u001b[38;5;66;03m# Set modello con migliori iperparametri\u001b[39;00m\n\u001b[0;32m----> 2\u001b[0m rf \u001b[38;5;241m=\u001b[39m \u001b[43mRandomForestRegressor\u001b[49m(\n\u001b[1;32m      3\u001b[0m     n_estimators\u001b[38;5;241m=\u001b[39m\u001b[38;5;241m300\u001b[39m,\n\u001b[1;32m      4\u001b[0m     max_depth\u001b[38;5;241m=\u001b[39m\u001b[38;5;241m100\u001b[39m,\n\u001b[1;32m      5\u001b[0m     min_samples_split\u001b[38;5;241m=\u001b[39m\u001b[38;5;241m5\u001b[39m,\n\u001b[1;32m      6\u001b[0m     min_samples_leaf\u001b[38;5;241m=\u001b[39m\u001b[38;5;241m3\u001b[39m,\n\u001b[1;32m      7\u001b[0m )\n\u001b[1;32m      9\u001b[0m \u001b[38;5;66;03m# Fit su tutto il df scalato\u001b[39;00m\n\u001b[1;32m     10\u001b[0m rf\u001b[38;5;241m.\u001b[39mfit(X_train_pca, y_rf)\n",
      "\u001b[0;31mNameError\u001b[0m: name 'RandomForestRegressor' is not defined"
     ]
    }
   ],
   "source": [
    "# Set modello con migliori iperparametri\n",
    "rf = RandomForestRegressor(\n",
    "    n_estimators=300,\n",
    "    max_depth=100,\n",
    "    min_samples_split=5,\n",
    "    min_samples_leaf=3,\n",
    ")\n",
    "\n",
    "# Fit su tutto il df scalato\n",
    "rf.fit(X_train_pca, y_rf)\n",
    "\n",
    "# Salvataggio del modello su disco\n",
    "with open(\"rf_test.save\", \"wb\") as file:\n",
    "    pickle.dump(rf, file)"
   ]
  },
  {
   "cell_type": "markdown",
   "metadata": {},
   "source": [
    "## LR (Linear Regression)"
   ]
  },
  {
   "cell_type": "code",
   "execution_count": null,
   "metadata": {},
   "outputs": [],
   "source": [
    "# Creazione del modello di regressione lineare\n",
    "lr = LinearRegression()\n",
    "\n",
    "# Addestramento del modello\n",
    "lr.fit(X_train, y_train)\n",
    "\n",
    "# Predizione\n",
    "y_pred_lr = lr.predict(X_test)\n",
    "\n",
    "# Valutazione del modello\n",
    "print(\"Risultati linear regression:\")\n",
    "valutazione_modello(y_test, y_pred_lr)\n",
    "\n",
    "# Salvataggio del modello\n",
    "joblib.dump(lr, 'linear_regression_model.pkl')\n"
   ]
  },
  {
   "cell_type": "code",
   "execution_count": null,
   "metadata": {},
   "outputs": [
    {
     "name": "stdout",
     "output_type": "stream",
     "text": [
      "Risultati linear regression:\n",
      "MSE (Mean Squared Error): 81.79\n",
      "MAE (Mean Absolute Error): 6.70\n",
      "MAPE (Mean Absolute Percentage Error): 0.00\n",
      "R-squared: 0.25\n"
     ]
    }
   ],
   "source": [
    "# PCA\n",
    "linear_regr = LinearRegression()\n",
    "# Addestriamo modello sui dati di training\n",
    "linear_regr.fit(X_train_pca, y_train)\n",
    "\n",
    "# Predizioni sul set di test\n",
    "y_pred = linear_regr.predict(X_test_pca)\n",
    "\n",
    "# Valutazione del modello\n",
    "print(\"Risultati linear regression con PCA:\")\n",
    "valutazione_modello(y_test, y_pred)"
   ]
  },
  {
   "cell_type": "code",
   "execution_count": null,
   "metadata": {},
   "outputs": [
    {
     "name": "stdout",
     "output_type": "stream",
     "text": [
      "Linear Regression Performance:\n",
      "MSE: 79.05891891246776\n",
      "MAE: 6.508626639496495\n",
      "MAPE: 0.3266294896617657%\n",
      "R-squared: 0.27463890823264536\n"
     ]
    },
    {
     "data": {
      "text/plain": [
       "['linear_regression_model.pkl']"
      ]
     },
     "execution_count": 23,
     "metadata": {},
     "output_type": "execute_result"
    }
   ],
   "source": [
    "# standard scalar\n",
    "linear_regr = LinearRegression()\n",
    "# Addestriamo modello sui dati di training\n",
    "linear_regr.fit(X_train_scaled, y_train)\n",
    "\n",
    "# Predizioni sul set di test\n",
    "y_pred = linear_regr.predict(X_test_scaled)\n",
    "\n",
    "# Valutazione del modello\n",
    "print(\"Risultati linear regression con Standard scalar:\")\n",
    "valutazione_modello(y_test, y_pred)"
   ]
  },
  {
   "cell_type": "markdown",
   "metadata": {},
   "source": [
    "## SVM\n",
    "Un modello che separa le classi trovando un iperpiano ottimale in uno spazio ad alta dimensione."
   ]
  },
  {
   "cell_type": "code",
   "execution_count": null,
   "metadata": {},
   "outputs": [],
   "source": []
  },
  {
   "cell_type": "markdown",
   "metadata": {},
   "source": [
    "## SVR"
   ]
  },
  {
   "cell_type": "code",
   "execution_count": null,
   "metadata": {},
   "outputs": [],
   "source": [
    "# Definizione dei parametri per il tuning\n",
    "param_grid_svr = {\n",
    "    'C': [0.1, 0.4, 0.8, 1.0],\n",
    "    'kernel': ['linear', 'poly', 'rbf', 'sigmoid'],\n",
    "    'gamma': [0.3, 0.5, 0.7, 0.9, 'scale'],\n",
    "    'epsilon' : [0.01, 0.2, 0.5, 1.0, 0.1] \n",
    "}\n",
    "\n",
    "# Creazione del modello e GridSearchCV\n",
    "svr = SVR()\n",
    "grid_svr = GridSearchCV(estimator=svr, param_grid=param_grid_svr, cv=5, scoring='neg_mean_squared_error')\n",
    "grid_svr.fit(X_train_scaled, y_train)\n",
    "\n",
    "# Migliori parametri trovati\n",
    "print(f\"Migliori parametri per SVR: {grid_svr.best_params_}\")\n",
    "\n",
    "# Predizione\n",
    "y_pred_svr = grid_svr.best_estimator_.predict(X_test_scaled)\n",
    "\n",
    "# Valutazione del modello\n",
    "print(\"Risultati SVR:\")\n",
    "valutazione_modello(y_test, y_pred_svr)\n"
   ]
  },
  {
   "cell_type": "markdown",
   "metadata": {},
   "source": [
    "## KNN\n",
    "Un modello basato sulla distanza, che classifica un punto in base alle classi più comuni tra i suoi vicini più vicini."
   ]
  },
  {
   "cell_type": "code",
   "execution_count": null,
   "metadata": {},
   "outputs": [],
   "source": [
    "# Definizione dei parametri per il tuning\n",
    "param_grid_knn = {\n",
    "    'n_neighbors': [3, 5, 7, 9],\n",
    "    'weights': ['uniform', 'distance'],\n",
    "    'metric': ['euclidean', 'manhattan', 'minkowski']\n",
    "}\n",
    "\n",
    "# Creazione del modello e GridSearchCV\n",
    "knn = KNeighborsRegressor()\n",
    "grid_knn = GridSearchCV(estimator=knn, param_grid=param_grid_knn, cv=5, scoring='neg_mean_absolute_error')\n",
    "grid_knn.fit(X_train_scaled, y_train)\n",
    "\n",
    "# Migliori parametri trovati\n",
    "print(f\"Migliori parametri per KNN: {grid_knn.best_params_}\")\n",
    "\n",
    "# Predizione\n",
    "y_pred_knn = grid_knn.best_estimator_.predict(X_test_scaled)\n",
    "\n",
    "# Valutazione del modello\n",
    "print(\"Risultati KNN:\")\n",
    "valutazione_modello(y_test, y_pred_knn)\n"
   ]
  },
  {
   "cell_type": "markdown",
   "metadata": {},
   "source": [
    "## KNR"
   ]
  },
  {
   "cell_type": "code",
   "execution_count": null,
   "metadata": {},
   "outputs": [],
   "source": []
  },
  {
   "cell_type": "code",
   "execution_count": null,
   "metadata": {},
   "outputs": [],
   "source": []
  },
  {
   "cell_type": "code",
   "execution_count": null,
   "metadata": {},
   "outputs": [],
   "source": []
  },
  {
   "cell_type": "code",
   "execution_count": null,
   "metadata": {},
   "outputs": [],
   "source": []
  },
  {
   "cell_type": "markdown",
   "metadata": {},
   "source": [
    "Modelli Supervised basati su Reti Neurali Feed-Forward: In questa sezione, utilizzerai reti neurali semplici, come il Multi-Layer Perceptron (MLP), per predire l'anno della canzone. Le reti neurali sono particolarmente utili quando si lavora con dati complessi e non lineari."
   ]
  },
  {
   "cell_type": "markdown",
   "metadata": {},
   "source": [
    "Modelli Deep per Tabular Data: Questa parte include l'uso di modelli deep learning specificamente progettati per dati tabulari, come:\n",
    "\n",
    "TabNet: Un modello di deep learning progettato per lavorare direttamente con dati tabulari.\n",
    "TabTransformer: Un modello che combina architetture di transformer con reti neurali per gestire dati tabulari."
   ]
  }
 ],
 "metadata": {
  "kernelspec": {
   "display_name": "Python 3",
   "language": "python",
   "name": "python3"
  },
  "language_info": {
   "codemirror_mode": {
    "name": "ipython",
    "version": 3
   },
   "file_extension": ".py",
   "mimetype": "text/x-python",
   "name": "python",
   "nbconvert_exporter": "python",
   "pygments_lexer": "ipython3",
   "version": "3.12.1"
  }
 },
 "nbformat": 4,
 "nbformat_minor": 2
}
