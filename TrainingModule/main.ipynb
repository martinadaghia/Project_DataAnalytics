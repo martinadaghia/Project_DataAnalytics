{
 "cells": [
  {
   "cell_type": "markdown",
   "metadata": {},
   "source": [
    "# Data acquisition"
   ]
  },
  {
   "cell_type": "code",
   "execution_count": 1,
   "metadata": {},
   "outputs": [],
   "source": [
    "import pandas as pd\n",
    "#importazione"
   ]
  },
  {
   "cell_type": "markdown",
   "metadata": {},
   "source": [
    "### Caricamento file train.csv"
   ]
  },
  {
   "cell_type": "code",
   "execution_count": 2,
   "metadata": {},
   "outputs": [],
   "source": [
    "file_path= \"../../train.csv\"\n",
    "df = pd.read_csv(file_path)"
   ]
  },
  {
   "cell_type": "code",
   "execution_count": 3,
   "metadata": {},
   "outputs": [
    {
     "data": {
      "text/html": [
       "<div>\n",
       "<style scoped>\n",
       "    .dataframe tbody tr th:only-of-type {\n",
       "        vertical-align: middle;\n",
       "    }\n",
       "\n",
       "    .dataframe tbody tr th {\n",
       "        vertical-align: top;\n",
       "    }\n",
       "\n",
       "    .dataframe thead th {\n",
       "        text-align: right;\n",
       "    }\n",
       "</style>\n",
       "<table border=\"1\" class=\"dataframe\">\n",
       "  <thead>\n",
       "    <tr style=\"text-align: right;\">\n",
       "      <th></th>\n",
       "      <th>Year</th>\n",
       "      <th>S0</th>\n",
       "      <th>S1</th>\n",
       "      <th>S2</th>\n",
       "      <th>S3</th>\n",
       "      <th>S4</th>\n",
       "      <th>S5</th>\n",
       "      <th>S6</th>\n",
       "      <th>S7</th>\n",
       "      <th>S8</th>\n",
       "      <th>...</th>\n",
       "      <th>S80</th>\n",
       "      <th>S81</th>\n",
       "      <th>S82</th>\n",
       "      <th>S83</th>\n",
       "      <th>S84</th>\n",
       "      <th>S85</th>\n",
       "      <th>S86</th>\n",
       "      <th>S87</th>\n",
       "      <th>S88</th>\n",
       "      <th>S89</th>\n",
       "    </tr>\n",
       "  </thead>\n",
       "  <tbody>\n",
       "    <tr>\n",
       "      <th>0</th>\n",
       "      <td>2007</td>\n",
       "      <td>44.76752</td>\n",
       "      <td>114.82099</td>\n",
       "      <td>3.83239</td>\n",
       "      <td>27.99928</td>\n",
       "      <td>1.49153</td>\n",
       "      <td>-15.90853</td>\n",
       "      <td>28.24844</td>\n",
       "      <td>3.61650</td>\n",
       "      <td>-7.24653</td>\n",
       "      <td>...</td>\n",
       "      <td>-1.89619</td>\n",
       "      <td>-471.02844</td>\n",
       "      <td>411.56205</td>\n",
       "      <td>443.01198</td>\n",
       "      <td>19.30254</td>\n",
       "      <td>309.07806</td>\n",
       "      <td>-336.91706</td>\n",
       "      <td>-14.70547</td>\n",
       "      <td>-474.44157</td>\n",
       "      <td>31.32820</td>\n",
       "    </tr>\n",
       "    <tr>\n",
       "      <th>1</th>\n",
       "      <td>2004</td>\n",
       "      <td>52.28942</td>\n",
       "      <td>75.73319</td>\n",
       "      <td>11.35941</td>\n",
       "      <td>-6.20582</td>\n",
       "      <td>-27.64559</td>\n",
       "      <td>-30.75995</td>\n",
       "      <td>12.50955</td>\n",
       "      <td>7.47877</td>\n",
       "      <td>9.88498</td>\n",
       "      <td>...</td>\n",
       "      <td>4.57060</td>\n",
       "      <td>1.36110</td>\n",
       "      <td>-6.52977</td>\n",
       "      <td>59.48672</td>\n",
       "      <td>3.69790</td>\n",
       "      <td>-36.92252</td>\n",
       "      <td>44.08077</td>\n",
       "      <td>3.39993</td>\n",
       "      <td>-70.07591</td>\n",
       "      <td>3.86143</td>\n",
       "    </tr>\n",
       "    <tr>\n",
       "      <th>2</th>\n",
       "      <td>2005</td>\n",
       "      <td>33.81773</td>\n",
       "      <td>-139.07371</td>\n",
       "      <td>134.19332</td>\n",
       "      <td>17.85216</td>\n",
       "      <td>63.47408</td>\n",
       "      <td>-25.28005</td>\n",
       "      <td>-34.65911</td>\n",
       "      <td>-5.99135</td>\n",
       "      <td>1.27848</td>\n",
       "      <td>...</td>\n",
       "      <td>54.16608</td>\n",
       "      <td>15.04530</td>\n",
       "      <td>39.09107</td>\n",
       "      <td>39.03041</td>\n",
       "      <td>3.68708</td>\n",
       "      <td>-61.88547</td>\n",
       "      <td>45.68115</td>\n",
       "      <td>6.39822</td>\n",
       "      <td>3.24471</td>\n",
       "      <td>35.74749</td>\n",
       "    </tr>\n",
       "    <tr>\n",
       "      <th>3</th>\n",
       "      <td>1998</td>\n",
       "      <td>41.60866</td>\n",
       "      <td>3.17811</td>\n",
       "      <td>-3.97174</td>\n",
       "      <td>23.53564</td>\n",
       "      <td>-19.68553</td>\n",
       "      <td>20.74407</td>\n",
       "      <td>18.80866</td>\n",
       "      <td>6.24474</td>\n",
       "      <td>-7.98424</td>\n",
       "      <td>...</td>\n",
       "      <td>28.08591</td>\n",
       "      <td>295.88684</td>\n",
       "      <td>54.02395</td>\n",
       "      <td>102.02880</td>\n",
       "      <td>40.47711</td>\n",
       "      <td>15.10258</td>\n",
       "      <td>-250.32293</td>\n",
       "      <td>2.81288</td>\n",
       "      <td>56.05172</td>\n",
       "      <td>3.60432</td>\n",
       "    </tr>\n",
       "    <tr>\n",
       "      <th>4</th>\n",
       "      <td>1987</td>\n",
       "      <td>44.49525</td>\n",
       "      <td>-32.25270</td>\n",
       "      <td>58.08217</td>\n",
       "      <td>3.73684</td>\n",
       "      <td>-32.53274</td>\n",
       "      <td>-18.72885</td>\n",
       "      <td>-15.85665</td>\n",
       "      <td>-3.34607</td>\n",
       "      <td>22.63786</td>\n",
       "      <td>...</td>\n",
       "      <td>31.44988</td>\n",
       "      <td>-136.50457</td>\n",
       "      <td>-85.11989</td>\n",
       "      <td>-74.96342</td>\n",
       "      <td>9.56921</td>\n",
       "      <td>-100.61689</td>\n",
       "      <td>-133.29315</td>\n",
       "      <td>9.19246</td>\n",
       "      <td>-97.37953</td>\n",
       "      <td>30.11015</td>\n",
       "    </tr>\n",
       "  </tbody>\n",
       "</table>\n",
       "<p>5 rows × 91 columns</p>\n",
       "</div>"
      ],
      "text/plain": [
       "   Year        S0         S1         S2        S3        S4        S5  \\\n",
       "0  2007  44.76752  114.82099    3.83239  27.99928   1.49153 -15.90853   \n",
       "1  2004  52.28942   75.73319   11.35941  -6.20582 -27.64559 -30.75995   \n",
       "2  2005  33.81773 -139.07371  134.19332  17.85216  63.47408 -25.28005   \n",
       "3  1998  41.60866    3.17811   -3.97174  23.53564 -19.68553  20.74407   \n",
       "4  1987  44.49525  -32.25270   58.08217   3.73684 -32.53274 -18.72885   \n",
       "\n",
       "         S6       S7        S8  ...       S80        S81        S82  \\\n",
       "0  28.24844  3.61650  -7.24653  ...  -1.89619 -471.02844  411.56205   \n",
       "1  12.50955  7.47877   9.88498  ...   4.57060    1.36110   -6.52977   \n",
       "2 -34.65911 -5.99135   1.27848  ...  54.16608   15.04530   39.09107   \n",
       "3  18.80866  6.24474  -7.98424  ...  28.08591  295.88684   54.02395   \n",
       "4 -15.85665 -3.34607  22.63786  ...  31.44988 -136.50457  -85.11989   \n",
       "\n",
       "         S83       S84        S85        S86       S87        S88       S89  \n",
       "0  443.01198  19.30254  309.07806 -336.91706 -14.70547 -474.44157  31.32820  \n",
       "1   59.48672   3.69790  -36.92252   44.08077   3.39993  -70.07591   3.86143  \n",
       "2   39.03041   3.68708  -61.88547   45.68115   6.39822    3.24471  35.74749  \n",
       "3  102.02880  40.47711   15.10258 -250.32293   2.81288   56.05172   3.60432  \n",
       "4  -74.96342   9.56921 -100.61689 -133.29315   9.19246  -97.37953  30.11015  \n",
       "\n",
       "[5 rows x 91 columns]"
      ]
     },
     "execution_count": 3,
     "metadata": {},
     "output_type": "execute_result"
    }
   ],
   "source": [
    "# Visualizzazione le prime righe del dataframe\n",
    "df.head() "
   ]
  },
  {
   "cell_type": "code",
   "execution_count": 4,
   "metadata": {},
   "outputs": [
    {
     "name": "stdout",
     "output_type": "stream",
     "text": [
      "Dimensionu del dataframe \n",
      "\n",
      "Righe: 252175\n",
      "Colonne: 91\n"
     ]
    }
   ],
   "source": [
    "# Dimensione del dataframe\n",
    "print(\"Dimensionu del dataframe \\n\")\n",
    "print(\"Righe: \" + str(len(df.index)))\n",
    "print(\"Colonne: \" + str(len(df.columns)))"
   ]
  },
  {
   "cell_type": "code",
   "execution_count": 5,
   "metadata": {},
   "outputs": [
    {
     "name": "stdout",
     "output_type": "stream",
     "text": [
      "\n",
      "Valori mancanti nel DataFrame:\n",
      "Year    0\n",
      "S0      0\n",
      "S1      0\n",
      "S2      0\n",
      "S3      0\n",
      "       ..\n",
      "S85     0\n",
      "S86     0\n",
      "S87     0\n",
      "S88     0\n",
      "S89     0\n",
      "Length: 91, dtype: int64\n"
     ]
    }
   ],
   "source": []
  },
  {
   "cell_type": "code",
   "execution_count": 6,
   "metadata": {},
   "outputs": [
    {
     "name": "stdout",
     "output_type": "stream",
     "text": [
      "\n",
      "Duplicati nel DataFrame:\n",
      "52\n"
     ]
    }
   ],
   "source": []
  },
  {
   "cell_type": "code",
   "execution_count": null,
   "metadata": {},
   "outputs": [],
   "source": []
  },
  {
   "cell_type": "code",
   "execution_count": null,
   "metadata": {},
   "outputs": [],
   "source": []
  }
 ],
 "metadata": {
  "kernelspec": {
   "display_name": "Python 3",
   "language": "python",
   "name": "python3"
  },
  "language_info": {
   "codemirror_mode": {
    "name": "ipython",
    "version": 3
   },
   "file_extension": ".py",
   "mimetype": "text/x-python",
   "name": "python",
   "nbconvert_exporter": "python",
   "pygments_lexer": "ipython3",
   "version": "3.9.6"
  }
 },
 "nbformat": 4,
 "nbformat_minor": 2
}
