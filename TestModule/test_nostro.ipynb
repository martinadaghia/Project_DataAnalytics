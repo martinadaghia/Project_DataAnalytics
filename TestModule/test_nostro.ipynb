{
 "cells": [
  {
   "cell_type": "code",
   "execution_count": 1,
   "metadata": {},
   "outputs": [],
   "source": [
    "#from sklearn.preprocessing import MinMaxScaler\n",
    "from sklearn.linear_model import LinearRegression\n",
    "from sklearn.svm import SVR\n",
    "from sklearn.metrics import mean_squared_error\n",
    "from sklearn.metrics import mean_absolute_error\n",
    "from sklearn.metrics import mean_absolute_percentage_error\n",
    "from sklearn.metrics import r2_score\n",
    "import pickle\n",
    "import pandas as pd\n",
    "import torch"
   ]
  },
  {
   "cell_type": "code",
   "execution_count": 9,
   "metadata": {},
   "outputs": [],
   "source": [
    "MY_UNIQUE_ID = \"martinaallaseconda\"\n",
    "\n",
    "\n",
    "# Output: unique ID of the team\n",
    "def getName():\n",
    "    return MY_UNIQUE_ID\n",
    "\n",
    "# Input: Test dataframe\n",
    "# Output: PreProcessed test dataframe\n",
    "def preprocess(df, clfName):\n",
    "\n",
    "    if ((clfName == \"RF\") or (clfName == \"LR\") or (clfName == \"SVR\") or (clfName == \"KNR\") or (clfName == \"FF\")):\n",
    "        X = df.drop(columns=['Year']) \n",
    "        y = df['Year'] \n",
    "        scaler = pickle.load(open(\"scaler.save\", 'rb'))\n",
    "        X = pd.DataFrame(scaler.transform(X))\n",
    "        dfNew = pd.concat([X, y], axis = 1)\n",
    "        return dfNew\n",
    "    else: # No scaler per TabNet e TabTransformer\n",
    "        return df\n",
    "\n",
    "\n",
    "# Input: Regressor name (\"lr\": Linear Regression, \"SVR\": Support Vector Regressor)\n",
    "# Output: Regressor object\n",
    "def load(clfName):\n",
    "    if (clfName == \"RF\"):\n",
    "        clf = pickle.load(open(\"rf.save\", 'rb'))\n",
    "        return clf\n",
    "    elif (clfName == \"LR\"):\n",
    "        clf = pickle.load(open(\"lr.save\", 'rb'))\n",
    "        return clf\n",
    "    elif (clfName == \"SVR\"):\n",
    "        clf = pickle.load(open(\"svr.save\", 'rb'))\n",
    "        return clf\n",
    "    elif (clfName == \"KNR\"):\n",
    "        clf = pickle.load(open(\"knn.save\", 'rb'))\n",
    "        return clf\n",
    "    elif (clfName == \"FF\"):\n",
    "        clf = pickle.load(open(\"ff4.save\", 'rb'))\n",
    "        return clf\n",
    "    elif (clfName == \"TB\"):\n",
    "        clf = pickle.load(open(\"tb_tabnet4.save\", 'rb'))\n",
    "        return clf\n",
    "    elif (clfName == \"TF\"):\n",
    "        clf = pickle.load(open(\"tabTransf.save\", 'rb'))\n",
    "        #clf = torch.load(\"tabTransf_best.save\")\n",
    "        return clf\n",
    "    else:\n",
    "        return None\n",
    "\n",
    "\n",
    "\n",
    "# Input: PreProcessed dataset, Regressor Name, Regressor Object \n",
    "# Output: Performance dictionary\n",
    "def predict(df, clfName, clf):\n",
    "    X = df.drop(columns=['Year']) \n",
    "    y = df['Year'] \n",
    "    \n",
    "    # Tabular\n",
    "    if ((clfName == \"TB\") or (clfName == \"TF\")):\n",
    "        ypred = clf.predict(df)  \n",
    "\n",
    "    # Rete FF\n",
    "    elif (clfName == \"FF\"):\n",
    "        device = torch.device('cuda' if torch.cuda.is_available() else 'cpu')\n",
    "        X = torch.FloatTensor(X.values).to(device)\n",
    "        y = torch.FloatTensor(y.values).view(-1, 1).to(device)\n",
    "        clf.eval()\n",
    "\n",
    "        with torch.no_grad():  \n",
    "            ypred_ = clf(X)  # Ottengo le predizioni\n",
    "            ypred = ypred_.cpu().numpy()  # Converto le predizioni da tensor a numpy array per calcolare le metriche\n",
    "            \n",
    "        y = y.cpu().numpy()  # Converto y in numpy array per calcolare le metriche\n",
    "\n",
    "    else:\n",
    "        X = X.values  \n",
    "        y = y.values  \n",
    "        ypred = clf.predict(X)  \n",
    "\n",
    "\n",
    "    mse = mean_squared_error(y, ypred)\n",
    "    mae = mean_absolute_error(y, ypred)\n",
    "    mape = mean_absolute_percentage_error(y, ypred)\n",
    "    r2 = r2_score(y, ypred)\n",
    "    \n",
    "    performance_metrics = {\n",
    "        \"mse\": mse, \n",
    "        \"mae\": mae, \n",
    "        \"mape\": mape, \n",
    "        \"r2square\": r2\n",
    "    }\n",
    "    \n",
    "    return performance_metrics"
   ]
  },
  {
   "cell_type": "code",
   "execution_count": 10,
   "metadata": {},
   "outputs": [
    {
     "name": "stdout",
     "output_type": "stream",
     "text": [
      "RESULT team: martinaallaseconda algoName: LR perf: {'mse': 94.86937247190434, 'mae': 7.149512761595671, 'mape': 0.003586904900443591, 'r2square': 0.1391327431512942}\n"
     ]
    },
    {
     "name": "stderr",
     "output_type": "stream",
     "text": [
      "/Library/Frameworks/Python.framework/Versions/3.12/lib/python3.12/site-packages/sklearn/base.py:376: InconsistentVersionWarning: Trying to unpickle estimator SVR from version 1.5.1 when using version 1.5.0. This might lead to breaking code or invalid results. Use at your own risk. For more info please refer to:\n",
      "https://scikit-learn.org/stable/model_persistence.html#security-maintainability-limitations\n",
      "  warnings.warn(\n"
     ]
    },
    {
     "name": "stdout",
     "output_type": "stream",
     "text": [
      "RESULT team: martinaallaseconda algoName: SVR perf: {'mse': 91.47183514359104, 'mae': 6.153736646945415, 'mape': 0.003095103101082883, 'r2square': 0.16996280520037488}\n",
      "RESULT team: martinaallaseconda algoName: KNR perf: {'mse': 35.283020184731946, 'mae': 3.4413370408672654, 'mape': 0.0017259666133985338, 'r2square': 0.6798334804126274}\n",
      "RESULT team: martinaallaseconda algoName: RF perf: {'mse': 129.92290079765968, 'mae': 6.846464760422883, 'mape': 0.003428389009726271, 'r2square': -0.1789513127077047}\n",
      "RESULT team: martinaallaseconda algoName: FF perf: {'mse': 153.35834, 'mae': 10.484416, 'mape': 0.0052495836, 'r2square': -0.39161014556884766}\n"
     ]
    },
    {
     "name": "stderr",
     "output_type": "stream",
     "text": [
      "/Library/Frameworks/Python.framework/Versions/3.12/lib/python3.12/site-packages/sklearn/base.py:376: InconsistentVersionWarning: Trying to unpickle estimator StandardScaler from version 1.5.1 when using version 1.5.0. This might lead to breaking code or invalid results. Use at your own risk. For more info please refer to:\n",
      "https://scikit-learn.org/stable/model_persistence.html#security-maintainability-limitations\n",
      "  warnings.warn(\n"
     ]
    },
    {
     "name": "stdout",
     "output_type": "stream",
     "text": [
      "RESULT team: martinaallaseconda algoName: TB perf: {'mse': 1186.0528118394618, 'mae': 11.671268911156531, 'mape': 0.0058474796987953125, 'r2square': -9.762525396785058}\n"
     ]
    },
    {
     "name": "stderr",
     "output_type": "stream",
     "text": [
      "/Library/Frameworks/Python.framework/Versions/3.12/lib/python3.12/site-packages/sklearn/base.py:376: InconsistentVersionWarning: Trying to unpickle estimator StandardScaler from version 1.5.1 when using version 1.5.0. This might lead to breaking code or invalid results. Use at your own risk. For more info please refer to:\n",
      "https://scikit-learn.org/stable/model_persistence.html#security-maintainability-limitations\n",
      "  warnings.warn(\n"
     ]
    },
    {
     "name": "stdout",
     "output_type": "stream",
     "text": [
      "RESULT team: martinaallaseconda algoName: TF perf: {'mse': 94.56639802458791, 'mae': 7.1592557101846745, 'mape': 0.0035916942021247617, 'r2square': 0.14188200536902196}\n"
     ]
    }
   ],
   "source": [
    "FILENAME = \"../../train.csv\"\n",
    "CLF_NAME_LIST = [ \"LR\", \"SVR\", \"KNR\", \"RF\", \"FF\", \"TB\", \"TF\" ]\n",
    "df = pd.read_csv(FILENAME)\n",
    "\n",
    "#Esecuzione degli algoritmi\n",
    "for modelName in CLF_NAME_LIST:\n",
    "    dfProcessed = preprocess(df, modelName)\n",
    "    clf = load(modelName)\n",
    "    perf = predict(dfProcessed, modelName, clf)\n",
    "    print(\"RESULT team: \"+str(getName())+\" algoName: \"+ modelName + \" perf: \"+ str(perf))"
   ]
  }
 ],
 "metadata": {
  "kernelspec": {
   "display_name": "Python 3",
   "language": "python",
   "name": "python3"
  },
  "language_info": {
   "codemirror_mode": {
    "name": "ipython",
    "version": 3
   },
   "file_extension": ".py",
   "mimetype": "text/x-python",
   "name": "python",
   "nbconvert_exporter": "python",
   "pygments_lexer": "ipython3",
   "version": "3.12.1"
  }
 },
 "nbformat": 4,
 "nbformat_minor": 2
}
