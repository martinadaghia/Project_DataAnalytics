{
 "cells": [
  {
   "cell_type": "markdown",
   "metadata": {},
   "source": [
    "### Importazione librerie"
   ]
  },
  {
   "cell_type": "code",
   "execution_count": 32,
   "metadata": {},
   "outputs": [],
   "source": [
    "import pandas as pd\n",
    "import numpy as np\n",
    "from sklearn.model_selection import train_test_split\n",
    "from sklearn.preprocessing import StandardScaler\n",
    "from sklearn.decomposition import PCA\n",
    "import pickle\n"
   ]
  },
  {
   "cell_type": "markdown",
   "metadata": {},
   "source": [
    "### Caricamento file train.csv"
   ]
  },
  {
   "cell_type": "code",
   "execution_count": 33,
   "metadata": {},
   "outputs": [],
   "source": [
    "file_path = \"../../train.csv\"\n",
    "df = pd.read_csv(file_path)"
   ]
  },
  {
   "cell_type": "markdown",
   "metadata": {},
   "source": [
    "### Controllo ed eliminazione valori nulli e duplicati"
   ]
  },
  {
   "cell_type": "code",
   "execution_count": 34,
   "metadata": {},
   "outputs": [
    {
     "name": "stdout",
     "output_type": "stream",
     "text": [
      "\n",
      "Valori mancanti nel DataFrame per ciascuna colonna:\n",
      "Year    0\n",
      "S0      0\n",
      "S1      0\n",
      "S2      0\n",
      "S3      0\n",
      "       ..\n",
      "S85     0\n",
      "S86     0\n",
      "S87     0\n",
      "S88     0\n",
      "S89     0\n",
      "Length: 91, dtype: int64\n",
      "\n",
      "Totale dei valori mancanti nel DataFrame:\n",
      "0\n"
     ]
    }
   ],
   "source": [
    "# Valori mancanti per ciascuna colonna\n",
    "missing_values_per_column = df.isnull().sum()\n",
    "print(\"\\nValori mancanti nel DataFrame per ciascuna colonna:\")\n",
    "print(missing_values_per_column)\n",
    "\n",
    "# Totale dei valori mancanti in tutto il DataFrame\n",
    "total_missing_values = missing_values_per_column.sum()\n",
    "print(f\"\\nTotale dei valori mancanti nel DataFrame:\\n{total_missing_values}\")"
   ]
  },
  {
   "cell_type": "code",
   "execution_count": 35,
   "metadata": {},
   "outputs": [
    {
     "name": "stdout",
     "output_type": "stream",
     "text": [
      "\n",
      "Duplicati nel DataFrame:\n",
      "52\n"
     ]
    }
   ],
   "source": [
    "print(\"\\nDuplicati nel DataFrame:\")\n",
    "print(df.duplicated().sum())"
   ]
  },
  {
   "cell_type": "code",
   "execution_count": 36,
   "metadata": {},
   "outputs": [],
   "source": [
    "clean_df = df.dropna() \n",
    "clean_df = df.drop_duplicates()"
   ]
  },
  {
   "cell_type": "code",
   "execution_count": null,
   "metadata": {},
   "outputs": [],
   "source": []
  },
  {
   "cell_type": "code",
   "execution_count": null,
   "metadata": {},
   "outputs": [],
   "source": []
  },
  {
   "cell_type": "code",
   "execution_count": null,
   "metadata": {},
   "outputs": [],
   "source": []
  },
  {
   "cell_type": "code",
   "execution_count": null,
   "metadata": {},
   "outputs": [],
   "source": []
  },
  {
   "cell_type": "code",
   "execution_count": null,
   "metadata": {},
   "outputs": [],
   "source": []
  }
 ],
 "metadata": {
  "kernelspec": {
   "display_name": "Python 3",
   "language": "python",
   "name": "python3"
  },
  "language_info": {
   "codemirror_mode": {
    "name": "ipython",
    "version": 3
   },
   "file_extension": ".py",
   "mimetype": "text/x-python",
   "name": "python",
   "nbconvert_exporter": "python",
   "pygments_lexer": "ipython3",
   "version": "3.9.6"
  }
 },
 "nbformat": 4,
 "nbformat_minor": 2
}
